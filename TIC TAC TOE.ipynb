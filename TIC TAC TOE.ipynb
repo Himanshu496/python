{
 "cells": [
  {
   "cell_type": "code",
   "execution_count": 1,
   "id": "80471eb5",
   "metadata": {},
   "outputs": [
    {
     "name": "stdout",
     "output_type": "stream",
     "text": [
      "Requirement already satisfied: pygame in c:\\users\\himan\\anaconda3\\lib\\site-packages (2.0.3)\n",
      "Note: you may need to restart the kernel to use updated packages.\n"
     ]
    }
   ],
   "source": [
    "pip install pygame"
   ]
  },
  {
   "cell_type": "code",
   "execution_count": 31,
   "id": "a364969f",
   "metadata": {},
   "outputs": [],
   "source": [
    "import pygame as pg,sys\n",
    "from pygame.locals import *\n",
    "import time\n",
    "\n",
    "XO = 'x'\n",
    "winner = None\n",
    "draw = False\n",
    "width = 400\n",
    "height = 400\n",
    "green = (0, 128, 128)\n",
    "line_color = (10,10,10)\n",
    "\n",
    "TTT = [[None]*3,[None]*3,[None]*3]"
   ]
  },
  {
   "cell_type": "code",
   "execution_count": 32,
   "id": "03bfc18d",
   "metadata": {},
   "outputs": [],
   "source": [
    "pg.init()\n",
    "fps = 30\n",
    "CLOCK = pg.time.Clock()\n",
    "screen = pg.display.set_mode((width, height+100),0,32)\n",
    "pg.display.set_caption(\"Tic Tac Toe\")"
   ]
  },
  {
   "cell_type": "code",
   "execution_count": 33,
   "id": "6f978f09",
   "metadata": {},
   "outputs": [],
   "source": [
    "opening = pg.image.load('tic tac toe.jpg')\n",
    "x_img = pg.image.load('kata.jpeg')\n",
    "o_img = pg.image.load('zero.jpeg')\n",
    "\n",
    "x_img = pg.transform.scale(x_img, (80,80))\n",
    "o_img = pg.transform.scale(o_img, (80,80))\n",
    "opening = pg.transform.scale(opening, (width, height+100))"
   ]
  },
  {
   "cell_type": "code",
   "execution_count": 34,
   "id": "f11fbe36",
   "metadata": {},
   "outputs": [],
   "source": [
    "def game_opening():\n",
    "    screen.blit(opening,(0,0))\n",
    "    pg.display.update()\n",
    "    time.sleep(2)\n",
    "    screen.fill(green)\n",
    "    \n",
    "    pg.draw.line(screen,line_color,(width/3,0),(width/3, height),7)\n",
    "    pg.draw.line(screen,line_color,(width/3*2,0),(width/3*2, height),7)\n",
    "    \n",
    "    pg.draw.line(screen,line_color,(0,height/3),(width, height/3),7)\n",
    "    pg.draw.line(screen,line_color,(0,height/3*2),(width, height/3*2),7)\n",
    "    draw_status()"
   ]
  },
  {
   "cell_type": "code",
   "execution_count": 35,
   "id": "4a3be67f",
   "metadata": {},
   "outputs": [],
   "source": [
    "def draw_status():\n",
    "    global draw\n",
    "    if winner is None:\n",
    "        message = XO.upper() + \"'s Turn\"\n",
    "    else:\n",
    "        message = \"Congratulations \" + winner.upper() + \" won!\"\n",
    "    if draw:\n",
    "        message = 'Game Draw!'\n",
    "    font = pg.font.Font(None, 30)\n",
    "    text = font.render(message, 1, (255, 255, 255))\n",
    "    \n",
    "    screen.fill ((0, 0, 0), (0, 400, 500, 100))\n",
    "    text_rect = text.get_rect(center=(width/2, 500-50))\n",
    "    screen.blit(text, text_rect)\n",
    "    pg.display.update()"
   ]
  },
  {
   "cell_type": "code",
   "execution_count": 36,
   "id": "cc9e8b5f",
   "metadata": {},
   "outputs": [],
   "source": [
    "def check_win():\n",
    "    global TTT, winner,draw\n",
    "    \n",
    "    for row in range (0,3):\n",
    "        if ((TTT [row][0] == TTT[row][1] == TTT[row][2]) and(TTT [row][0] is not None)):\n",
    "            \n",
    "            winner = TTT[row][0]\n",
    "            pg.draw.line(screen, (43, 240, 17), (0, (row + 1)*height/3 -height/6),(width, (row + 1)*height/3 - height/6 ), 4)\n",
    "            break\n",
    "            \n",
    "    for col in range (0, 3):\n",
    "        if (TTT[0][col] == TTT[1][col] == TTT[2][col]) and (TTT[0][col] is not None):\n",
    "            \n",
    "            winner = TTT[0][col]\n",
    "            \n",
    "            pg.draw.line (screen, (43, 240, 17),((col + 1)* width/3 - width/6, 0),((col + 1)* width/3 - width/6, height), 4)\n",
    "            break\n",
    "            \n",
    "    if (TTT[0][0] == TTT[1][1] == TTT[2][2]) and (TTT[0][0] is not None):\n",
    "        \n",
    "        winner = TTT[0][0]\n",
    "        pg.draw.line (screen, (43, 240, 17), (50, 50), (350, 350), 4)\n",
    "    if (TTT[0][2] == TTT[1][1] == TTT[2][0]) and (TTT[0][2] is not None):\n",
    "        \n",
    "        winner = TTT[0][2]\n",
    "        pg.draw.line (screen, (43, 240, 17), (350, 50), (50, 350), 4)\n",
    "    if(all([all(row) for row in TTT]) and winner is None ):\n",
    "        draw = True\n",
    "    draw_status()"
   ]
  },
  {
   "cell_type": "code",
   "execution_count": 37,
   "id": "fed9c6c6",
   "metadata": {},
   "outputs": [],
   "source": [
    "def drawXO(row,col):\n",
    "    global TTT,XO\n",
    "    if row==1:\n",
    "        posx = 30\n",
    "    if row==2:\n",
    "        posx = width/3 + 30\n",
    "    if row==3:\n",
    "        posx = width/3*2 + 30\n",
    "    if col==1:\n",
    "        posy = 30\n",
    "    if col==2:\n",
    "        posy = height/3 + 30\n",
    "    if col==3:\n",
    "        posy = height/3*2 + 30\n",
    "    TTT[row-1][col-1] = XO\n",
    "    if(XO == 'x'):\n",
    "        screen.blit(x_img,(posy,posx))\n",
    "        XO= 'o'\n",
    "    else:\n",
    "        screen.blit(o_img,(posy,posx))\n",
    "        XO= 'x'\n",
    "    pg.display.update()\n",
    "    \n",
    "    "
   ]
  },
  {
   "cell_type": "code",
   "execution_count": 38,
   "id": "cd12b866",
   "metadata": {},
   "outputs": [],
   "source": [
    "def userClick():\n",
    "    \n",
    "    x,y = pg.mouse.get_pos()\n",
    "    \n",
    "    if(x<width/3):\n",
    "        col = 1\n",
    "    elif (x<width/3*2):\n",
    "        col = 2\n",
    "    elif(x<width):\n",
    "        col = 3\n",
    "    else:\n",
    "        col = None\n",
    "        \n",
    "    if(y<height/3):\n",
    "        row = 1\n",
    "    elif (y<height/3*2):\n",
    "        row = 2\n",
    "    elif(y<height):\n",
    "        row = 3\n",
    "    else:\n",
    "        row = None\n",
    "        \n",
    "    if(row and col and TTT[row-1][col-1] is None):\n",
    "        global XO\n",
    "        \n",
    "        drawXO(row,col)\n",
    "        check_win()"
   ]
  },
  {
   "cell_type": "code",
   "execution_count": 39,
   "id": "f4ca412e",
   "metadata": {},
   "outputs": [],
   "source": [
    "def reset_game():\n",
    "    global TTT, winner,XO, draw\n",
    "    time.sleep(3)\n",
    "    XO = 'x'\n",
    "    draw = False\n",
    "    game_opening()\n",
    "    winner=None\n",
    "    TTT = [[None]*3,[None]*3,[None]*3]"
   ]
  },
  {
   "cell_type": "code",
   "execution_count": 40,
   "id": "07294d3c",
   "metadata": {},
   "outputs": [
    {
     "ename": "SystemExit",
     "evalue": "",
     "output_type": "error",
     "traceback": [
      "An exception has occurred, use %tb to see the full traceback.\n",
      "\u001b[1;31mSystemExit\u001b[0m\n"
     ]
    }
   ],
   "source": [
    "game_opening()\n",
    "\n",
    "while(True):\n",
    "    for event in pg.event.get():\n",
    "        if event.type == QUIT:\n",
    "            pg.quit()\n",
    "            sys.exit()\n",
    "        elif event.type == MOUSEBUTTONDOWN:\n",
    "            \n",
    "            userClick()\n",
    "            if(winner or draw):\n",
    "                reset_game()\n",
    "    pg.display.update()\n",
    "    CLOCK.tick(fps)"
   ]
  },
  {
   "cell_type": "code",
   "execution_count": null,
   "id": "88a488ba",
   "metadata": {},
   "outputs": [],
   "source": []
  }
 ],
 "metadata": {
  "kernelspec": {
   "display_name": "Python 3",
   "language": "python",
   "name": "python3"
  },
  "language_info": {
   "codemirror_mode": {
    "name": "ipython",
    "version": 3
   },
   "file_extension": ".py",
   "mimetype": "text/x-python",
   "name": "python",
   "nbconvert_exporter": "python",
   "pygments_lexer": "ipython3",
   "version": "3.8.8"
  }
 },
 "nbformat": 4,
 "nbformat_minor": 5
}
